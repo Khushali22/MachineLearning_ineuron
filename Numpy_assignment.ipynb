{
 "cells": [
  {
   "cell_type": "markdown",
   "metadata": {},
   "source": [
    "# Problem Statement 1: "
   ]
  },
  {
   "cell_type": "markdown",
   "metadata": {},
   "source": [
    "Write a function so that the columns of the output matrix are powers of the input \t vector. \n",
    " \n",
    "The order of the powers is determined by the increasing boolean argument. Specifically, when increasing is False, the i-th output column is the input vector raised element-wise to the power of N - i - 1. \n",
    "  \n",
    "HINT: Such a matrix with a geometric progression in each row is named for AlexandreTheophile Vandermonde. \n"
   ]
  },
  {
   "cell_type": "markdown",
   "metadata": {},
   "source": [
    "Solution without using inbuilt vander function:-"
   ]
  },
  {
   "cell_type": "code",
   "execution_count": 1,
   "metadata": {},
   "outputs": [],
   "source": [
    "import numpy as np"
   ]
  },
  {
   "cell_type": "code",
   "execution_count": 2,
   "metadata": {},
   "outputs": [],
   "source": [
    "def vander_matrix(vector, N, increasing=False):\n",
    "    \n",
    "    if not increasing:\n",
    "        matrix = np.column_stack([vector**(N-1-i) for i in range(N)])\n",
    "    elif increasing:\n",
    "        matrix = np.column_stack([vector**i for i in range(N)])\n",
    "    \n",
    "    return matrix\n"
   ]
  },
  {
   "cell_type": "code",
   "execution_count": 12,
   "metadata": {},
   "outputs": [
    {
     "name": "stdout",
     "output_type": "stream",
     "text": [
      "OUTPUT:-\n",
      "\n",
      "The input vector:  [1 2 3 4 5]\n",
      "\n",
      "Number of columns in output matrix should be:  3\n",
      "\n",
      "Vander matrix of the input array when increasing False:\n",
      "\n",
      " [[ 1  1  1]\n",
      " [ 4  2  1]\n",
      " [ 9  3  1]\n",
      " [16  4  1]\n",
      " [25  5  1]]\n",
      "\n",
      "Vander matrix of the input array when increasing True:\n",
      "\n",
      " [[ 1  1  1]\n",
      " [ 1  2  4]\n",
      " [ 1  3  9]\n",
      " [ 1  4 16]\n",
      " [ 1  5 25]]\n",
      "The input vector:  [ 1  2  4  6  8 10]\n",
      "\n",
      "Number of columns in output matrix should be:  5\n",
      "\n",
      "Vander matrix of the input array when increasing False:\n",
      " [[    1     1     1     1     1]\n",
      " [   16     8     4     2     1]\n",
      " [  256    64    16     4     1]\n",
      " [ 1296   216    36     6     1]\n",
      " [ 4096   512    64     8     1]\n",
      " [10000  1000   100    10     1]]\n",
      "\n",
      "Vander matrix of the input array when increasing True:\n",
      " [[    1     1     1     1     1]\n",
      " [    1     2     4     8    16]\n",
      " [    1     4    16    64   256]\n",
      " [    1     6    36   216  1296]\n",
      " [    1     8    64   512  4096]\n",
      " [    1    10   100  1000 10000]]\n"
     ]
    }
   ],
   "source": [
    "print(\"OUTPUT:-\\n\")\n",
    "\n",
    "vector = np.array([1,2,3,4,5])\n",
    "N = 3\n",
    "output_matrix_inc_false = vander_matrix(vector,N,False)\n",
    "output_matrix_inc_true = vander_matrix(vector,N,True)\n",
    "\n",
    "print(\"The input vector: \",vector)\n",
    "print(\"\\nNumber of columns in output matrix should be: \",N)\n",
    "print(\"\\nVander matrix of the input array when increasing False:\\n\\n\",output_matrix_inc_false)\n",
    "print(\"\\nVander matrix of the input array when increasing True:\\n\\n\",output_matrix_inc_true)\n",
    "\n",
    "vector_demo1 = np.array([1,2,4,6,8,10])\n",
    "N = 5\n",
    "output_matrix_inc_false = vander_matrix(vector_demo1,N,False)\n",
    "output_matrix_inc_true = vander_matrix(vector_demo1,N,True)\n",
    "\n",
    "print(\"The input vector: \",vector_demo1)\n",
    "print(\"\\nNumber of columns in output matrix should be: \",N)\n",
    "print(\"\\nVander matrix of the input array when increasing False:\\n\",output_matrix_inc_false)\n",
    "print(\"\\nVander matrix of the input array when increasing True:\\n\",output_matrix_inc_true)\n"
   ]
  },
  {
   "cell_type": "markdown",
   "metadata": {},
   "source": [
    "Solution using inbuilt function:-"
   ]
  },
  {
   "cell_type": "code",
   "execution_count": 6,
   "metadata": {},
   "outputs": [
    {
     "data": {
      "text/plain": [
       "array([[ 1,  1,  1],\n",
       "       [ 1,  2,  4],\n",
       "       [ 1,  3,  9],\n",
       "       [ 1,  4, 16],\n",
       "       [ 1,  5, 25]])"
      ]
     },
     "execution_count": 6,
     "metadata": {},
     "output_type": "execute_result"
    }
   ],
   "source": [
    "np.vander([1,2,3,4,5],3,increasing=True)"
   ]
  },
  {
   "cell_type": "code",
   "execution_count": 7,
   "metadata": {},
   "outputs": [
    {
     "data": {
      "text/plain": [
       "array([[    1,     1,     1,     1,     1],\n",
       "       [   16,     8,     4,     2,     1],\n",
       "       [  256,    64,    16,     4,     1],\n",
       "       [ 1296,   216,    36,     6,     1],\n",
       "       [ 4096,   512,    64,     8,     1],\n",
       "       [10000,  1000,   100,    10,     1]])"
      ]
     },
     "execution_count": 7,
     "metadata": {},
     "output_type": "execute_result"
    }
   ],
   "source": [
    "np.vander([1,2,4,6,8,10],5) # By default increasing will be False"
   ]
  },
  {
   "cell_type": "markdown",
   "metadata": {},
   "source": [
    "# Problem Statement 2: "
   ]
  },
  {
   "cell_type": "markdown",
   "metadata": {},
   "source": [
    "Given a sequence of n values x1, x2, ..., xn and a window size k>0, the k-th moving average of the given sequence is defined as follows: \n",
    " \n",
    "The moving average sequence has n-k+1 elements as shown below. \n",
    " \n",
    "The moving averages with k=4 of a ten-value sequence (n=10) is shown below \n",
    " \n",
    " i 1  2  3  4  5  6  7  8  9 10  ===== == == == == == == == == == == \n",
    "Input 10 20 30 40 50 60 70 80 90 100   \ty1      25 = (10+20+30+40)/4  \ty2      35 = (20+30+40+50)/4  \ty3      45 = (30+40+50+60)/4 \n",
    "y4 \t55 = (40+50+60+70)/4 \n",
    "y5 \t65 = (50+60+70+80)/4 \n",
    "y6 \t75 = (60+70+80+90)/4 \n",
    "y7 \t85 = (70+80+90+100)/4 \n",
    " \n",
    " \n",
    "Thus, the moving average sequence has n-k+1=10-4+1=7 values. \n",
    "Question: Write a function to find moving average in an array over a window: \n",
    "         Test it over [3, 5, 7, 2, 8, 10, 11, 65, 72, 81, 99, 100, 150] and window of 3. \n"
   ]
  },
  {
   "cell_type": "code",
   "execution_count": 35,
   "metadata": {},
   "outputs": [],
   "source": [
    "##Moving average\n",
    "def moving_avg(l, N):\n",
    "    result = []\n",
    "    for i in range(0, len(l)-N+1):\n",
    "        output = np.sum(l[i:i+N])/N\n",
    "        result.append(output)\n",
    "    return np.array(result)"
   ]
  },
  {
   "cell_type": "code",
   "execution_count": 36,
   "metadata": {},
   "outputs": [
    {
     "name": "stdout",
     "output_type": "stream",
     "text": [
      "[20. 30. 40. 50. 60. 70. 80. 90.]\n"
     ]
    }
   ],
   "source": [
    "l = np.array([10,20,30,40,50,60,70,80,90,100])\n",
    "N = 3\n",
    "print(moving_avg(l,N))"
   ]
  },
  {
   "cell_type": "markdown",
   "metadata": {},
   "source": [
    "Question: Write a function to find moving average in an array over a window: \n",
    "         Test it over [3, 5, 7, 2, 8, 10, 11, 65, 72, 81, 99, 100, 150] and window of 3. \n"
   ]
  },
  {
   "cell_type": "code",
   "execution_count": 37,
   "metadata": {},
   "outputs": [
    {
     "name": "stdout",
     "output_type": "stream",
     "text": [
      "[  4.25   5.5    6.75   7.75  23.5   39.5   57.25  79.25  88.   107.5 ]\n"
     ]
    }
   ],
   "source": [
    "l1 = np.array([3, 5, 7, 2, 8, 10, 11, 65, 72, 81, 99, 100, 150])\n",
    "N=4\n",
    "print(moving_avg(l1,N))"
   ]
  },
  {
   "cell_type": "code",
   "execution_count": null,
   "metadata": {},
   "outputs": [],
   "source": []
  }
 ],
 "metadata": {
  "kernelspec": {
   "display_name": "Python 3",
   "language": "python",
   "name": "python3"
  },
  "language_info": {
   "codemirror_mode": {
    "name": "ipython",
    "version": 3
   },
   "file_extension": ".py",
   "mimetype": "text/x-python",
   "name": "python",
   "nbconvert_exporter": "python",
   "pygments_lexer": "ipython3",
   "version": "3.7.0"
  }
 },
 "nbformat": 4,
 "nbformat_minor": 2
}
