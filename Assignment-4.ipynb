{
 "cells": [
  {
   "cell_type": "markdown",
   "metadata": {},
   "source": [
    "# Assignent-4"
   ]
  },
  {
   "cell_type": "markdown",
   "metadata": {},
   "source": [
    "Write a Python Program(with class concepts) to find the area of the triangle using the below\n",
    "formula.\n",
    "area = (s*(s-a)*(s-b)*(s-c)) ** 0.5\n",
    "\n",
    "Function to take the length of the sides of triangle from user should be defined in the parent\n",
    "class and function to calculate the area should be defined in subclass."
   ]
  },
  {
   "cell_type": "code",
   "execution_count": 22,
   "metadata": {
    "collapsed": true
   },
   "outputs": [],
   "source": [
    "class Geometry:\n",
    "\n",
    "    def __init__(self, n):\n",
    "        self.number_of_sides_of_shape = n\n",
    "        \n",
    "class Triangle(Geometry):\n",
    "\n",
    "    def __init__(self, triangle_side_lengths):\n",
    "        Geometry.__init__(self, 3)\n",
    "        self.triangle_side_lengths = triangle_side_lengths  # list of three numbers\n",
    "\n",
    "    def get_area(self):\n",
    "        a, b, c = self.triangle_side_lengths\n",
    "\n",
    "        s = (a + b + c) / 2\n",
    "        return (s*(s-a)*(s-b)*(s-c)) ** 0.5"
   ]
  },
  {
   "cell_type": "code",
   "execution_count": 24,
   "metadata": {
    "collapsed": false
   },
   "outputs": [
    {
     "name": "stdout",
     "output_type": "stream",
     "text": [
      "Enter the length of side a:- 3\n",
      "Enter the length of side b:- 4\n",
      "Enter the length of side c:- 5\n",
      "6.0\n"
     ]
    }
   ],
   "source": [
    "sidea = int(input(\"Enter the length of side a:- \"))\n",
    "sideb = int(input(\"Enter the length of side b:- \"))\n",
    "sidec = int(input(\"Enter the length of side c:- \"))\n",
    "tri = Triangle([sidea,sideb,sidec])\n",
    "print(tri.get_area())"
   ]
  },
  {
   "cell_type": "markdown",
   "metadata": {},
   "source": [
    "Write a function filter_long_words() that takes a list of words and an integer n and returns\n",
    "the list of words that are longer than n."
   ]
  },
  {
   "cell_type": "code",
   "execution_count": 33,
   "metadata": {
    "collapsed": true
   },
   "outputs": [],
   "source": [
    "def filter_long_words(words,n):\n",
    "    final = []\n",
    "    for items in words:\n",
    "        if(len(items) > n):\n",
    "            final.append(items)\n",
    "    \n",
    "    return final"
   ]
  },
  {
   "cell_type": "code",
   "execution_count": 34,
   "metadata": {
    "collapsed": false
   },
   "outputs": [
    {
     "data": {
      "text/plain": [
       "['asfdsdaf', 'asfsa', 'rrtrg', 'rrgv']"
      ]
     },
     "execution_count": 34,
     "metadata": {},
     "output_type": "execute_result"
    }
   ],
   "source": [
    "filter_long_words([\"asfdsdaf\",\"asfsa\",\"aef\",\"qr\",\"ad\",\"rrtrg\",\"a\",\"rrgv\"],3)"
   ]
  },
  {
   "cell_type": "markdown",
   "metadata": {},
   "source": [
    "Write a Python program using function concept that maps list of words into a list of integers\n",
    "representing the lengths of the corresponding words.\n",
    "\n",
    "Hint: If a list [ ab,cde,erty] is passed on to the python function output should come as [2,3,4]\n",
    "\n",
    "Here 2,3 and 4 are the lengths of the words in the list."
   ]
  },
  {
   "cell_type": "code",
   "execution_count": 36,
   "metadata": {
    "collapsed": false
   },
   "outputs": [
    {
     "name": "stdout",
     "output_type": "stream",
     "text": [
      "[8, 4, 4, 1]\n"
     ]
    }
   ],
   "source": [
    "def length_of_word(n):\n",
    "    return len(n)\n",
    "\n",
    "numbers = [\"khushali\", \"shah\", \"hiii\", \"3\"]\n",
    "result = map(length_of_word, numbers) \n",
    "print(list(result)) "
   ]
  },
  {
   "cell_type": "markdown",
   "metadata": {},
   "source": [
    "Write a Python function which takes a character (i.e. a string of length 1) and returns True if\n",
    "it is a vowel, False otherwise."
   ]
  },
  {
   "cell_type": "code",
   "execution_count": 40,
   "metadata": {
    "collapsed": false
   },
   "outputs": [
    {
     "name": "stdout",
     "output_type": "stream",
     "text": [
      "Enter string of 1 length/Enter character:- O\n",
      "True\n"
     ]
    }
   ],
   "source": [
    "def vowel_check(s):\n",
    "    vowels_list = [\"a\",\"e\",\"i\",\"o\",\"u\"]\n",
    "    if s.lower() in vowels_list:\n",
    "        return True\n",
    "    else:\n",
    "        return False\n",
    "    \n",
    "character = input(\"Enter string of 1 length/Enter character:- \")\n",
    "print(vowel_check(character))"
   ]
  },
  {
   "cell_type": "code",
   "execution_count": null,
   "metadata": {
    "collapsed": true
   },
   "outputs": [],
   "source": []
  }
 ],
 "metadata": {
  "kernelspec": {
   "display_name": "Python [conda env:Anaconda3]",
   "language": "python",
   "name": "conda-env-Anaconda3-py"
  },
  "language_info": {
   "codemirror_mode": {
    "name": "ipython",
    "version": 3
   },
   "file_extension": ".py",
   "mimetype": "text/x-python",
   "name": "python",
   "nbconvert_exporter": "python",
   "pygments_lexer": "ipython3",
   "version": "3.5.6"
  }
 },
 "nbformat": 4,
 "nbformat_minor": 1
}
